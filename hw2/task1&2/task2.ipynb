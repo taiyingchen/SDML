{
 "cells": [
  {
   "cell_type": "markdown",
   "metadata": {},
   "source": [
    "# hw2 task2"
   ]
  },
  {
   "cell_type": "markdown",
   "metadata": {},
   "source": [
    "## Data Preprocessing"
   ]
  },
  {
   "cell_type": "code",
   "execution_count": 1,
   "metadata": {},
   "outputs": [],
   "source": [
    "import numpy as np\n",
    "import pandas as pd\n",
    "import scipy\n",
    "import datetime\n",
    "from collections import defaultdict\n",
    "import matplotlib.pyplot as plt"
   ]
  },
  {
   "cell_type": "code",
   "execution_count": 2,
   "metadata": {},
   "outputs": [],
   "source": [
    "dataset = pd.read_csv('ntucsie-sdml2018-2-1/rating_train.csv', header=0)"
   ]
  },
  {
   "cell_type": "code",
   "execution_count": 3,
   "metadata": {
    "scrolled": false
   },
   "outputs": [
    {
     "data": {
      "text/html": [
       "<div>\n",
       "<style scoped>\n",
       "    .dataframe tbody tr th:only-of-type {\n",
       "        vertical-align: middle;\n",
       "    }\n",
       "\n",
       "    .dataframe tbody tr th {\n",
       "        vertical-align: top;\n",
       "    }\n",
       "\n",
       "    .dataframe thead th {\n",
       "        text-align: right;\n",
       "    }\n",
       "</style>\n",
       "<table border=\"1\" class=\"dataframe\">\n",
       "  <thead>\n",
       "    <tr style=\"text-align: right;\">\n",
       "      <th></th>\n",
       "      <th>date</th>\n",
       "      <th>userid</th>\n",
       "      <th>foodid</th>\n",
       "    </tr>\n",
       "  </thead>\n",
       "  <tbody>\n",
       "    <tr>\n",
       "      <th>0</th>\n",
       "      <td>2014-09-15</td>\n",
       "      <td>6</td>\n",
       "      <td>0</td>\n",
       "    </tr>\n",
       "    <tr>\n",
       "      <th>1</th>\n",
       "      <td>2014-09-16</td>\n",
       "      <td>6</td>\n",
       "      <td>0</td>\n",
       "    </tr>\n",
       "    <tr>\n",
       "      <th>2</th>\n",
       "      <td>2014-09-16</td>\n",
       "      <td>6</td>\n",
       "      <td>1</td>\n",
       "    </tr>\n",
       "    <tr>\n",
       "      <th>3</th>\n",
       "      <td>2014-09-16</td>\n",
       "      <td>6</td>\n",
       "      <td>2</td>\n",
       "    </tr>\n",
       "    <tr>\n",
       "      <th>4</th>\n",
       "      <td>2014-09-16</td>\n",
       "      <td>6</td>\n",
       "      <td>3</td>\n",
       "    </tr>\n",
       "  </tbody>\n",
       "</table>\n",
       "</div>"
      ],
      "text/plain": [
       "         date  userid  foodid\n",
       "0  2014-09-15       6       0\n",
       "1  2014-09-16       6       0\n",
       "2  2014-09-16       6       1\n",
       "3  2014-09-16       6       2\n",
       "4  2014-09-16       6       3"
      ]
     },
     "execution_count": 3,
     "metadata": {},
     "output_type": "execute_result"
    }
   ],
   "source": [
    "dataset.head()"
   ]
  },
  {
   "cell_type": "code",
   "execution_count": 4,
   "metadata": {
    "scrolled": true
   },
   "outputs": [
    {
     "name": "stdout",
     "output_type": "stream",
     "text": [
      "unique userid: 2608\n",
      "unique foodid: 5532\n"
     ]
    }
   ],
   "source": [
    "print('unique userid:', len(dataset.userid.unique()))\n",
    "print('unique foodid:', len(dataset.foodid.unique()))"
   ]
  },
  {
   "cell_type": "code",
   "execution_count": null,
   "metadata": {},
   "outputs": [],
   "source": [
    "users = dataset.userid.unique()\n",
    "user_total_cnt = defaultdict(int)\n",
    "\n",
    "for userid in users:\n",
    "    data = dataset[dataset['userid'] == userid]\n",
    "    user_total_cnt[userid] = data.shape[0]"
   ]
  },
  {
   "cell_type": "markdown",
   "metadata": {},
   "source": [
    "### Rule-based - count frequency"
   ]
  },
  {
   "cell_type": "code",
   "execution_count": null,
   "metadata": {},
   "outputs": [],
   "source": [
    "matrix = dataset.as_matrix()\n",
    "freq = defaultdict(lambda: defaultdict(int))\n",
    "user_cnt = defaultdict(int)\n",
    "user_freq_cnt = defaultdict(int)\n",
    "user_foods = defaultdict(set)\n",
    "\n",
    "for row in matrix:\n",
    "    date, userid, foodid = row[0], row[1], row[2]\n",
    "    user_cnt[userid] += 1\n",
    "    if user_cnt[userid] >= user_total_cnt[userid] * 0.85:\n",
    "        if foodid not in user_foods[userid]:\n",
    "            user_foods[userid].add(foodid)\n",
    "        user_freq_cnt[userid] += 1\n",
    "        freq[userid][foodid] += 1"
   ]
  },
  {
   "cell_type": "code",
   "execution_count": null,
   "metadata": {
    "scrolled": true
   },
   "outputs": [],
   "source": [
    "matrix = dataset.as_matrix()\n",
    "matrix = np.flipud(matrix) # From new to old\n",
    "freq = defaultdict(lambda: defaultdict(int))\n",
    "user_date_record = defaultdict(lambda: defaultdict(set))\n",
    "user_cnt = defaultdict(int)\n",
    "user_freq_cnt = defaultdict(int)\n",
    "user_foods = defaultdict(set)\n",
    "user_stop_date = defaultdict(str)\n",
    "\n",
    "for row in matrix:\n",
    "    date, userid, foodid = row[0], row[1], row[2]\n",
    "    user_cnt[userid] += 1\n",
    "    if foodid not in user_date_record[userid][date]:\n",
    "        user_date_record[userid][date].add(foodid)\n",
    "#         if user_cnt[userid] <= user_total_cnt[userid] * 0.13:\n",
    "        if userid not in user_stop_date or user_stop_date[userid] == date:\n",
    "            if foodid not in user_foods[userid]:\n",
    "                user_foods[userid].add(foodid)\n",
    "            if len(user_foods[userid]) >= 40:\n",
    "                user_stop_date[userid] = date\n",
    "            user_freq_cnt[userid] += 1\n",
    "            freq[userid][foodid] += 1"
   ]
  },
  {
   "cell_type": "markdown",
   "metadata": {},
   "source": [
    "### Rule-based - count unqiue foods"
   ]
  },
  {
   "cell_type": "code",
   "execution_count": null,
   "metadata": {},
   "outputs": [],
   "source": [
    "matrix = dataset.as_matrix()\n",
    "matrix = np.flipud(matrix) # From new to old\n",
    "freq = defaultdict(lambda: defaultdict(int))\n",
    "user_freq_cnt = defaultdict(int)\n",
    "user_total_foods = defaultdict(set)\n",
    "user_foods = defaultdict(set)\n",
    "\n",
    "for row in matrix:\n",
    "    date, userid, foodid = row[0], row[1], row[2]\n",
    "    user_cnt[userid] += 1\n",
    "    if foodid not in user_total_foods[userid]:\n",
    "        user_total_foods[userid].add(foodid)\n",
    "    if len(user_foods[userid]) < 20:\n",
    "        if foodid not in user_foods[userid]:\n",
    "            user_foods[userid].add(foodid)\n",
    "        user_freq_cnt[userid] += 1\n",
    "        freq[userid][foodid] += 1"
   ]
  },
  {
   "cell_type": "markdown",
   "metadata": {},
   "source": [
    "### Prediction"
   ]
  },
  {
   "cell_type": "code",
   "execution_count": null,
   "metadata": {},
   "outputs": [],
   "source": [
    "train = []\n",
    "for userid in freq:\n",
    "    for foodid in freq[userid]:\n",
    "        train.append([userid, foodid, freq[userid][foodid]])\n",
    "train = np.array(train)\n",
    "\n",
    "df = pd.DataFrame()\n",
    "df['userid'] = train[:,0]\n",
    "df['foodid'] = train[:,1]\n",
    "df['freq'] = train[:,2]"
   ]
  },
  {
   "cell_type": "code",
   "execution_count": null,
   "metadata": {},
   "outputs": [],
   "source": [
    "with open('pred.csv', 'w') as file:\n",
    "    file.write('userid,foodid\\n')\n",
    "    \n",
    "    for userid in users:\n",
    "        if len(user_foods[userid]) < 20:\n",
    "            print(userid, len(user_foods[userid]))\n",
    "        foods = df[df['userid'] == userid].sort_values('freq', ascending=False)['foodid'][:20]\n",
    "        file.write('{},'.format(userid))\n",
    "        cnt = 0\n",
    "        for foodid in foods:\n",
    "            file.write('{}'.format(foodid))\n",
    "            cnt += 1\n",
    "            if cnt >= 20:\n",
    "                file.write('\\n')\n",
    "                break\n",
    "            else:\n",
    "                file.write(' ')"
   ]
  }
 ],
 "metadata": {
  "kernelspec": {
   "display_name": "Python 3",
   "language": "python",
   "name": "python3"
  },
  "language_info": {
   "codemirror_mode": {
    "name": "ipython",
    "version": 3
   },
   "file_extension": ".py",
   "mimetype": "text/x-python",
   "name": "python",
   "nbconvert_exporter": "python",
   "pygments_lexer": "ipython3",
   "version": "3.6.4"
  }
 },
 "nbformat": 4,
 "nbformat_minor": 2
}
