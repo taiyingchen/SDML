{
 "cells": [
  {
   "cell_type": "markdown",
   "metadata": {},
   "source": [
    "## DeepQ environment setting"
   ]
  },
  {
   "cell_type": "code",
   "execution_count": null,
   "metadata": {},
   "outputs": [],
   "source": [
    "import sys\n",
    "sys.path[0] = '/home/deepq/.local/lib/python3.6/site-packages'"
   ]
  },
  {
   "cell_type": "markdown",
   "metadata": {},
   "source": [
    "## Code"
   ]
  },
  {
   "cell_type": "code",
   "execution_count": 4,
   "metadata": {},
   "outputs": [],
   "source": [
    "from __future__ import print_function\n",
    "\n",
    "from keras.models import Model\n",
    "from keras.callbacks import ModelCheckpoint\n",
    "from keras.layers import Input, LSTM, Dense, Embedding, Bidirectional, Activation, TimeDistributed\n",
    "from keras.layers import dot, concatenate\n",
    "import keras.backend as K\n",
    "import numpy as np\n",
    "import pandas as pd\n",
    "from collections import defaultdict\n",
    "\n",
    "batch_size = 10 # Batch size for training.\n",
    "epochs = 10 # Number of epochs to train for.\n",
    "word_size = 30000 # Size of the dictionary\n",
    "max_seq_len = 30\n",
    "latent_dim = 256 # Latent dimensionality of the encoding space.\n",
    "num_samples = 1000 # Number of samples to train on.\n",
    "# Path to the data txt file on disk.\n",
    "TRAIN_FILE = 'hw3_1/rhyme/train.csv'\n",
    "TEST_FILE = 'hw3_1/rhyme/test.csv'"
   ]
  },
  {
   "cell_type": "code",
   "execution_count": 5,
   "metadata": {},
   "outputs": [],
   "source": [
    "df = pd.read_csv(TRAIN_FILE, header=None, names=['X', 'Y'])\n",
    "\n",
    "input_texts = []\n",
    "target_texts = []\n",
    "cnt = 0\n",
    "\n",
    "for index in range(len(df)):\n",
    "    input_text, target_text = df['X'][index], df['Y'][index]\n",
    "#     input_text = input_text.replace('SOS ', '').replace(' EOS', '')\n",
    "#     target_text = target_text.replace('SOS ', '').replace(' EOS', '')\n",
    "    # We use \"tab\" as the \"start sequence\" character\n",
    "    # for the targets, and \"\\n\" as \"end sequence\" character.\n",
    "#     target_text = '\\t ' + target_text + ' \\n'\n",
    "    input_text, target_text = input_text.split(' '), target_text.split(' ')\n",
    "    if len(input_text) > max_seq_len or len(target_text) > max_seq_len:\n",
    "        continue\n",
    "    input_texts.append(input_text)\n",
    "    target_texts.append(target_text)\n",
    "    if len(input_texts) >= num_samples:\n",
    "        break"
   ]
  },
  {
   "cell_type": "code",
   "execution_count": 6,
   "metadata": {},
   "outputs": [],
   "source": [
    "from gensim.models import KeyedVectors\n",
    "\n",
    "word_vectors = KeyedVectors.load('embeddings/rhyme.w2v', mmap='r')"
   ]
  },
  {
   "cell_type": "code",
   "execution_count": 7,
   "metadata": {
    "scrolled": true
   },
   "outputs": [
    {
     "name": "stdout",
     "output_type": "stream",
     "text": [
      "Number of samples: 1000\n",
      "Number of unique tokens: 29176\n",
      "Max sequence length: 30\n"
     ]
    }
   ],
   "source": [
    "words_index = {'PAD': 0, 'UNK': 1}\n",
    "words_list = [(k, word_vectors[k]) for k, v in word_vectors.vocab.items()]\n",
    "\n",
    "embeddings_matrix = np.zeros((len(word_vectors.vocab.items())+2, word_vectors.vector_size))\n",
    "for i in range(len(words_list)):\n",
    "    word = words_list[i][0]\n",
    "    words_index[word] = i + 2\n",
    "    embeddings_matrix[i+2] = words_list[i][1]\n",
    "\n",
    "# UNK vector = average word vector\n",
    "embeddings_matrix[1] = np.mean(embeddings_matrix, axis=0)\n",
    "    \n",
    "reverse_words_index = dict(\n",
    "    (i, word) for word, i in words_index.items())\n",
    "\n",
    "print('Number of samples:', len(input_texts))\n",
    "print('Number of unique tokens:', len(words_index))\n",
    "print('Max sequence length:', max_seq_len)"
   ]
  },
  {
   "cell_type": "code",
   "execution_count": 8,
   "metadata": {},
   "outputs": [],
   "source": [
    "def padding(x):\n",
    "    maxlen = max([len(i) for i in x])\n",
    "    return [i + [0] * (maxlen-len(i)) for i in x]\n",
    "\n",
    "def id2str(ids):\n",
    "    return [reverse_words_index[i] for i in ids]\n",
    "\n",
    "def onehot2str(onehots):\n",
    "    return [reverse_words_index[np.argmax(i)] for i in onehots]\n",
    "\n",
    "def data_generator():\n",
    "    while True:\n",
    "        cnt = 0\n",
    "        encoder_input_data = np.zeros(\n",
    "            (batch_size, max_seq_len),\n",
    "            dtype=np.int)\n",
    "        decoder_input_data = np.zeros(\n",
    "            (batch_size, max_seq_len),\n",
    "            dtype=np.int)\n",
    "        decoder_target_data = np.zeros(\n",
    "            (batch_size, max_seq_len, len(words_index)),\n",
    "            dtype=np.bool)\n",
    "\n",
    "        for i, (input_text, target_text) in enumerate(zip(input_texts, target_texts)):\n",
    "            for t, word in enumerate(input_text):\n",
    "                if t >= max_seq_len:\n",
    "                    break\n",
    "                if word not in words_index:\n",
    "                    word = 'UNK'\n",
    "                encoder_input_data[cnt, t] = words_index[word]\n",
    "            for t, word in enumerate(target_text):\n",
    "                if t >= max_seq_len:\n",
    "                    break\n",
    "                if word not in words_index:\n",
    "                    word = 'UNK'\n",
    "                # decoder_target_data is ahead of decoder_input_data by one timestep\n",
    "                decoder_input_data[cnt, t] = words_index[word]\n",
    "                if t > 0:\n",
    "                    # decoder_target_data will be ahead by one timestep\n",
    "                    # and will not include the start character.\n",
    "                    decoder_target_data[cnt, t - 1, words_index[word]] = 1\n",
    "            cnt += 1\n",
    "            if cnt >= batch_size:\n",
    "                yield [[encoder_input_data, decoder_input_data], decoder_target_data]\n",
    "                cnt = 0\n",
    "                encoder_input_data = np.zeros(\n",
    "                    (batch_size, max_seq_len),\n",
    "                    dtype=np.int)\n",
    "                decoder_input_data = np.zeros(\n",
    "                    (batch_size, max_seq_len),\n",
    "                    dtype=np.int)\n",
    "                decoder_target_data = np.zeros(\n",
    "                    (batch_size, max_seq_len, len(words_index)),\n",
    "                    dtype=np.bool)\n",
    "\n",
    "def get_testing_data(test_size):\n",
    "    X_test = np.zeros((test_size, max_seq_len), dtype=np.int)\n",
    "    cnt = 0\n",
    "    \n",
    "    for i, test_text in enumerate(test_texts):\n",
    "        for t, word in enumerate(test_text):\n",
    "            if t >= max_seq_len:\n",
    "                break\n",
    "            if word not in words_index:\n",
    "                word = 'UNK'\n",
    "            X_test[cnt, t] = words_index[word]\n",
    "        cnt += 1\n",
    "        if cnt >= test_size:\n",
    "            return X_test\n",
    "                \n",
    "def decode_sequence(input_seq):\n",
    "    # Encode the input as state vectors.\n",
    "    states_value = encoder_model.predict(input_seq)\n",
    "\n",
    "    # Generate empty target sequence of length 1.\n",
    "    target_seq = np.zeros((1, 1))\n",
    "    # Populate the first character of target sequence with the start character.\n",
    "    target_seq[0, 0] = words_index['SOS']\n",
    "\n",
    "    # Sampling loop for a batch of sequences\n",
    "    # (to simplify, here we assume a batch of size 1).\n",
    "    stop_condition = False\n",
    "    decoded_sentence = []\n",
    "    while not stop_condition:\n",
    "        output_tokens, h, c = decoder_model.predict(\n",
    "            [target_seq] + states_value)\n",
    "\n",
    "        # Sample a token\n",
    "        sampled_token_index = np.argmax(output_tokens[0, -1, :])\n",
    "        sampled_word = reverse_words_index[sampled_token_index]\n",
    "        decoded_sentence.append(sampled_word)\n",
    "\n",
    "        # Exit condition: either hit max length\n",
    "        # or find stop character.\n",
    "        if (sampled_word == 'EOS' or\n",
    "           len(decoded_sentence) > max_seq_len):\n",
    "            stop_condition = True\n",
    "\n",
    "        # Update the target sequence (of length 1).\n",
    "        target_seq = np.zeros((1, 1))\n",
    "        target_seq[0, 0] = sampled_token_index\n",
    "\n",
    "        # Update states\n",
    "        states_value = [h, c]\n",
    "\n",
    "    return decoded_sentence"
   ]
  },
  {
   "cell_type": "code",
   "execution_count": null,
   "metadata": {},
   "outputs": [],
   "source": [
    "for X, Y in data_generator():\n",
    "    encoder_input_data = X[0]\n",
    "    decoder_input_data = X[1]\n",
    "    decoder_target_data = Y\n",
    "    break"
   ]
  },
  {
   "cell_type": "code",
   "execution_count": null,
   "metadata": {},
   "outputs": [],
   "source": [
    "index = 0\n",
    "print(id2str(encoder_input_data[index]))\n",
    "print(id2str(decoder_input_data[index]))\n",
    "print(onehot2str(decoder_target_data[index]))"
   ]
  },
  {
   "cell_type": "markdown",
   "metadata": {},
   "source": [
    "## Model"
   ]
  },
  {
   "cell_type": "markdown",
   "metadata": {},
   "source": [
    "### No attention"
   ]
  },
  {
   "cell_type": "code",
   "execution_count": null,
   "metadata": {
    "scrolled": true
   },
   "outputs": [],
   "source": [
    "# Define an input sequence and process it.\n",
    "encoder_inputs = Input(shape=(None,))\n",
    "embed = Embedding(len(embeddings_matrix), \n",
    "                  latent_dim,\n",
    "                  weights=[embeddings_matrix],\n",
    "                  trainable=False,\n",
    "                  mask_zero=True)\n",
    "encoder_embed = embed(encoder_inputs)\n",
    "encoder_lstm = LSTM(latent_dim, return_state=True)\n",
    "encoder_outputs, state_h, state_c = encoder_lstm(encoder_embed)\n",
    "encoder_states = [state_h, state_c]\n",
    "\n",
    "# Set up the decoder, using `encoder_states` as initial state.\n",
    "decoder_inputs = Input(shape=(None,))\n",
    "decoder_embed = embed(decoder_inputs)\n",
    "decoder_lstm = LSTM(latent_dim, return_sequences=True, return_state=True)\n",
    "decoder_outputs, _, _ = decoder_lstm(decoder_embed, initial_state=encoder_states)\n",
    "decoder_dense = Dense(len(words_index), activation='softmax')\n",
    "decoder_outputs = decoder_dense(decoder_outputs)\n",
    "\n",
    "# Define the model that will turn\n",
    "# `encoder_input_data` & `decoder_input_data` into `decoder_target_data`\n",
    "model = Model([encoder_inputs, decoder_inputs], decoder_outputs)\n",
    "model.summary()"
   ]
  },
  {
   "cell_type": "code",
   "execution_count": null,
   "metadata": {},
   "outputs": [],
   "source": [
    "model.load_weights('models/s2s_no_attn_all_2.h5')"
   ]
  },
  {
   "cell_type": "code",
   "execution_count": null,
   "metadata": {},
   "outputs": [],
   "source": [
    "model.save('models/s2s_report.h5')"
   ]
  },
  {
   "cell_type": "markdown",
   "metadata": {},
   "source": [
    "### Attention"
   ]
  },
  {
   "cell_type": "code",
   "execution_count": null,
   "metadata": {
    "scrolled": false
   },
   "outputs": [],
   "source": [
    "# Define an input sequence and process it.\n",
    "encoder_inputs = Input(shape=(None,))\n",
    "embed = Embedding(len(embeddings_matrix), \n",
    "                  latent_dim,\n",
    "                  weights=[embeddings_matrix],\n",
    "                  trainable=False,\n",
    "                  mask_zero=True)\n",
    "encoder_embed = embed(encoder_inputs)\n",
    "encoder_outputs, state_h, state_c = LSTM(latent_dim, return_sequences=True, return_state=True)(encoder_embed)\n",
    "encoder_states = [state_h, state_c]\n",
    "\n",
    "# Set up the decoder, using `encoder_states` as initial state.\n",
    "decoder_inputs = Input(shape=(None,))\n",
    "decoder_embed = embed(decoder_inputs)\n",
    "decoder_lstm = LSTM(latent_dim, return_sequences=True, return_state=True)\n",
    "decoder_outputs, _, _ = decoder_lstm(decoder_embed, initial_state=encoder_states)\n",
    "# decoder_dense = Dense(len(words_index), activation='softmax')\n",
    "# decoder_outputs = decoder_dense(decoder_outputs)\n",
    "\n",
    "# Attention layer\n",
    "attention = dot([decoder_outputs, encoder_outputs], axes=[2, 2])\n",
    "attention = Activation('softmax')(attention)\n",
    "\n",
    "context = dot([attention, encoder_outputs], axes=[2,1])\n",
    "decoder_combined_context = concatenate([context, decoder_outputs])\n",
    "\n",
    "# Has another weight + tanh layer as described in equation (5) of the paper\n",
    "output = TimeDistributed(Dense(64, activation=\"tanh\"))(decoder_combined_context) # equation (5) of the paper\n",
    "output = TimeDistributed(Dense(len(words_index), activation=\"softmax\"))(output) # equation (6) of the paper\n",
    "\n",
    "# Define the model that will turn\n",
    "# `encoder_input_data` & `decoder_input_data` into `decoder_target_data`\n",
    "model = Model([encoder_inputs, decoder_inputs], output)\n",
    "model.summary()"
   ]
  },
  {
   "cell_type": "code",
   "execution_count": null,
   "metadata": {},
   "outputs": [],
   "source": [
    "from IPython.display import SVG\n",
    "from keras.utils.vis_utils import model_to_dot\n",
    "\n",
    "SVG(model_to_dot(model).create(prog='dot', format='svg'))"
   ]
  },
  {
   "cell_type": "markdown",
   "metadata": {},
   "source": [
    "### Train model"
   ]
  },
  {
   "cell_type": "code",
   "execution_count": null,
   "metadata": {
    "scrolled": true
   },
   "outputs": [],
   "source": [
    "cp = ModelCheckpoint('s2s.h5', save_weights_only=True)\n",
    "\n",
    "# Run training\n",
    "model.compile(optimizer='rmsprop', loss='categorical_crossentropy', metrics=['accuracy'])\n",
    "history = model.fit_generator(data_generator(),\n",
    "                              steps_per_epoch=min(num_samples, len(df))//batch_size,\n",
    "#                               callbacks=[cp],\n",
    "                              epochs=epochs)\n",
    "# Save model\n",
    "# model.save_weights('tmp/s2s_weights.h5')"
   ]
  },
  {
   "cell_type": "code",
   "execution_count": null,
   "metadata": {
    "scrolled": true
   },
   "outputs": [],
   "source": [
    "import matplotlib.pyplot as plt\n",
    "%matplotlib inline\n",
    "\n",
    "plt.plot(history.history['loss'])\n",
    "plt.show()"
   ]
  },
  {
   "cell_type": "markdown",
   "metadata": {},
   "source": [
    "## Get testing data"
   ]
  },
  {
   "cell_type": "code",
   "execution_count": 9,
   "metadata": {},
   "outputs": [],
   "source": [
    "test_df = pd.read_csv(TEST_FILE, header=None, names=['X'])\n",
    "test_texts = []\n",
    "for index in range(len(test_df)):\n",
    "    test_text = test_df['X'][index]\n",
    "#     test_text = test_text.replace('SOS ', '').replace(' EOS', '')\n",
    "    test_text = test_text.split(' ')\n",
    "    test_texts.append(test_text)"
   ]
  },
  {
   "cell_type": "code",
   "execution_count": 10,
   "metadata": {},
   "outputs": [],
   "source": [
    "X_test = get_testing_data(len(test_texts))"
   ]
  },
  {
   "cell_type": "markdown",
   "metadata": {},
   "source": [
    "## Inference"
   ]
  },
  {
   "cell_type": "code",
   "execution_count": null,
   "metadata": {
    "scrolled": true
   },
   "outputs": [],
   "source": [
    "# Next: inference mode (sampling).\n",
    "# Here's the drill:\n",
    "# 1) encode input and retrieve initial decoder state\n",
    "# 2) run one step of decoder with this initial state\n",
    "# and a \"start of sequence\" token as target.\n",
    "# Output will be the next target token\n",
    "# 3) Repeat with the current target token and current states\n",
    "\n",
    "# Define sampling models\n",
    "encoder_model = Model(encoder_inputs, encoder_states)\n",
    "\n",
    "decoder_state_input_h = Input(shape=(latent_dim,))\n",
    "decoder_state_input_c = Input(shape=(latent_dim,))\n",
    "decoder_states_inputs = [decoder_state_input_h, decoder_state_input_c]\n",
    "decoder_embed = embed(decoder_inputs)\n",
    "decoder_outputs, state_h, state_c = decoder_lstm(\n",
    "    decoder_embed, initial_state=decoder_states_inputs)\n",
    "decoder_states = [state_h, state_c]\n",
    "decoder_outputs = decoder_dense(decoder_outputs)\n",
    "decoder_model = Model(\n",
    "    [decoder_inputs] + decoder_states_inputs,\n",
    "    [decoder_outputs] + decoder_states)\n",
    "\n",
    "# encoder_model.save('encoder.h5')\n",
    "# encoder_model.save_weights('encoder_w.h5')\n",
    "# decoder_model.save('decoder.h5')\n",
    "# decoder_model.save_weights('decoder_w.h5')"
   ]
  },
  {
   "cell_type": "code",
   "execution_count": 11,
   "metadata": {},
   "outputs": [
    {
     "name": "stderr",
     "output_type": "stream",
     "text": [
      "/usr/local/lib/python3.6/site-packages/keras/engine/saving.py:292: UserWarning: No training configuration found in save file: the model was *not* compiled. Compile it manually.\n",
      "  warnings.warn('No training configuration found in save file: '\n"
     ]
    }
   ],
   "source": [
    "from keras.models import load_model\n",
    "\n",
    "encoder_model = load_model('models/no_attn_rhyme_encoder.h5')\n",
    "decoder_model = load_model('models/no_attn_rhyme_decoder.h5')"
   ]
  },
  {
   "cell_type": "code",
   "execution_count": null,
   "metadata": {},
   "outputs": [],
   "source": [
    "encoder_model.load_weights('models/no_attn_all_encoder_w.h5')\n",
    "decoder_model.load_weights('models/no_attn_all_decoder_w.h5')"
   ]
  },
  {
   "cell_type": "code",
   "execution_count": 12,
   "metadata": {
    "scrolled": true
   },
   "outputs": [
    {
     "name": "stderr",
     "output_type": "stream",
     "text": [
      "100%|██████████| 70000/70000 [22:26<00:00, 51.98it/s]\n"
     ]
    }
   ],
   "source": [
    "from tqdm import tqdm\n",
    "\n",
    "output_filename = 'results/no_attn_rhyme.csv'\n",
    "\n",
    "with open(output_filename, 'w') as f:\n",
    "    for seq_index in tqdm(range(len(X_test))):\n",
    "        # Take one sequence (part of the training set)\n",
    "        # for trying out decoding.\n",
    "        input_seq = X_test[seq_index: seq_index + 1]\n",
    "        decoded_sentence = decode_sequence(input_seq)[:-1]\n",
    "        output_seq = ' '.join(decoded_sentence)\n",
    "#         output_seq = output_seq.replace('SOS ', '').replace(' EOS', '')\n",
    "        f.write(output_seq)\n",
    "        f.write('\\n')\n",
    "#         print('-')\n",
    "#         print('Input sentence:', input_texts[seq_index])\n",
    "#         print('Decoded sentence:', decoded_sentence)"
   ]
  },
  {
   "cell_type": "code",
   "execution_count": null,
   "metadata": {
    "scrolled": true
   },
   "outputs": [],
   "source": [
    "output_filename = 'no_attn_all.csv'\n",
    "\n",
    "for seq_index in range(10):\n",
    "    # Take one sequence (part of the training set)\n",
    "    # for trying out decoding.\n",
    "    input_seq = X_test[seq_index: seq_index + 1]\n",
    "    decoded_sentence = decode_sequence(input_seq)[:-1]\n",
    "    output_seq = ' '.join(decoded_sentence)\n",
    "    print('-')\n",
    "    print('Input sentence:', id2str(X_test[seq_index]))\n",
    "    print('Decoded sentence:', decoded_sentence)"
   ]
  },
  {
   "cell_type": "markdown",
   "metadata": {},
   "source": [
    "## Train word embedding"
   ]
  },
  {
   "cell_type": "code",
   "execution_count": null,
   "metadata": {},
   "outputs": [],
   "source": [
    "# For word2vec\n",
    "w2v_texts = []\n",
    "df = pd.read_csv(TRAIN_FILE, header=None, names=['X', 'Y'])\n",
    "\n",
    "for index in range(len(df)):\n",
    "    input_text, target_text = df['X'][index], df['Y'][index]\n",
    "    input_text = input_text.replace('SOS ', '').replace(' EOS', '')\n",
    "    target_text = target_text.replace('SOS ', '').replace(' EOS', '')\n",
    "    # We use \"tab\" as the \"start sequence\" character\n",
    "    # for the targets, and \"\\n\" as \"end sequence\" character.\n",
    "    target_text = '\\t ' + target_text + ' \\n'\n",
    "    input_text, target_text = input_text.split(' '), target_text.split(' ')\n",
    "    w2v_texts.append(input_text)\n",
    "    w2v_texts.append(target_text)"
   ]
  },
  {
   "cell_type": "code",
   "execution_count": null,
   "metadata": {},
   "outputs": [],
   "source": [
    "from gensim.models import Word2Vec\n",
    "\n",
    "model = Word2Vec(w2v_texts, size=256, max_final_vocab=word_size)\n",
    "\n",
    "word_vectors = model.wv\n",
    "print('Total vocabulary:', len(word_vectors.vocab))\n",
    "del model\n",
    "\n",
    "word_vectors.save('no_attn_len.w2v')"
   ]
  },
  {
   "cell_type": "code",
   "execution_count": null,
   "metadata": {},
   "outputs": [],
   "source": [
    "# embed = word_vectors.get_keras_embedding()\n",
    "# embed.mask_zero = True"
   ]
  }
 ],
 "metadata": {
  "kernelspec": {
   "display_name": "Python 3",
   "language": "python",
   "name": "python3"
  },
  "language_info": {
   "codemirror_mode": {
    "name": "ipython",
    "version": 3
   },
   "file_extension": ".py",
   "mimetype": "text/x-python",
   "name": "python",
   "nbconvert_exporter": "python",
   "pygments_lexer": "ipython3",
   "version": "3.6.5"
  }
 },
 "nbformat": 4,
 "nbformat_minor": 2
}
